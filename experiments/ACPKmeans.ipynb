{
 "cells": [
  {
   "cell_type": "code",
   "execution_count": 1,
   "id": "c9eaaaa3",
   "metadata": {},
   "outputs": [
    {
     "name": "stderr",
     "output_type": "stream",
     "text": [
      "c:\\Users\\utilisateur\\AppData\\Local\\Programs\\Python\\Python311\\Lib\\site-packages\\tqdm\\auto.py:21: TqdmWarning: IProgress not found. Please update jupyter and ipywidgets. See https://ipywidgets.readthedocs.io/en/stable/user_install.html\n",
      "  from .autonotebook import tqdm as notebook_tqdm\n"
     ]
    }
   ],
   "source": [
    "from sklearn.datasets import fetch_20newsgroups\n",
    "from sklearn.metrics.cluster import normalized_mutual_info_score, adjusted_rand_score\n",
    "from sentence_transformers import SentenceTransformer\n",
    "\n",
    "#from sentence_transformers import SentenceTransformer\n",
    "import numpy as np\n",
    "import prince\n",
    "\n",
    "'''\n",
    "Variables: \n",
    "---------\n",
    "\n",
    "corpus : list of documents\n",
    "embeddings : documents embeddings of size NxM (N : number of documents, M : embedding dimension) \n",
    "red_emd : reduced embeddings matrix using dimentionality reduction\n",
    "k : number of clusters\n",
    "labels : documents labels\n",
    "pred : list of clustering predicted clusters \n",
    "\n",
    "''';"
   ]
  },
  {
   "cell_type": "code",
   "execution_count": 12,
   "id": "e77a0f00",
   "metadata": {},
   "outputs": [],
   "source": [
    "def dim_red(mat, p):\n",
    "    pca = prince.PCA(\n",
    "    n_components=p,\n",
    "    n_iter=3,\n",
    "    rescale_with_mean=True,\n",
    "    rescale_with_std=True,\n",
    "    copy=True,\n",
    "    check_input=True,\n",
    "    engine='sklearn',\n",
    "    random_state=42\n",
    "    )\n",
    "    pca = pca.fit(mat)\n",
    "    \n",
    "    '''\n",
    "    Perform dimensionality reduction\n",
    "\n",
    "    Input:\n",
    "    -----\n",
    "        mat : NxM list \n",
    "        p : number of dimensions to keep \n",
    "    Output:\n",
    "    ------\n",
    "        red_mat : NxP list such that p<<m\n",
    "    '''\n",
    "    \n",
    "    red_mat = pca.transform(mat).tail()\n",
    "    \n",
    "    return red_mat"
   ]
  },
  {
   "cell_type": "code",
   "execution_count": 23,
   "metadata": {},
   "outputs": [],
   "source": [
    "# import kmeans\n",
    "from sklearn.cluster import KMeans\n"
   ]
  },
  {
   "cell_type": "code",
   "execution_count": 21,
   "metadata": {},
   "outputs": [],
   "source": [
    "def clust(mat, k):\n",
    "    kmeans = KMeans(n_clusters=k, random_state=0).fit(mat)\n",
    "    return kmeans.labels_\n"
   ]
  },
  {
   "cell_type": "code",
   "execution_count": null,
   "id": "9f2ae938",
   "metadata": {},
   "outputs": [],
   "source": [
    "def clust(mat, k):\n",
    "    # kmeans on mat matrix \n",
    "    \n",
    "\n",
    "    '''\n",
    "    Perform clustering\n",
    "\n",
    "    Input:\n",
    "    -----\n",
    "        mat : input list \n",
    "        k : number of cluster\n",
    "    Output:\n",
    "    ------\n",
    "        pred : list of predicted labels\n",
    "    '''\n",
    "    \n",
    "    pred = np.random.randint(k, size=len(corpus))\n",
    "    \n",
    "    return pred"
   ]
  },
  {
   "cell_type": "code",
   "execution_count": null,
   "metadata": {},
   "outputs": [],
   "source": [
    "# # import data\n",
    "# ng20 = fetch_20newsgroups(subset='test')\n",
    "# corpus = ng20.data[:2000]\n",
    "# labels = ng20.target[:2000]\n",
    "# k = len(set(labels))\n",
    "\n",
    "# # embedding\n",
    "# model = SentenceTransformer('paraphrase-MiniLM-L6-v2')\n",
    "# embeddings = model.encode(corpus)"
   ]
  },
  {
   "cell_type": "code",
   "execution_count": 15,
   "metadata": {},
   "outputs": [],
   "source": [
    "# load pandas\n",
    "import pandas as pd"
   ]
  },
  {
   "cell_type": "code",
   "execution_count": 16,
   "metadata": {},
   "outputs": [],
   "source": [
    "# load embeddings\n",
    "embeddings = np.load('embeddings.npy')\n",
    "# transform to dataframe\n",
    "embeddings = pd.DataFrame(embeddings)"
   ]
  },
  {
   "cell_type": "code",
   "execution_count": 30,
   "metadata": {},
   "outputs": [
    {
     "data": {
      "text/html": [
       "<div>\n",
       "<style scoped>\n",
       "    .dataframe tbody tr th:only-of-type {\n",
       "        vertical-align: middle;\n",
       "    }\n",
       "\n",
       "    .dataframe tbody tr th {\n",
       "        vertical-align: top;\n",
       "    }\n",
       "\n",
       "    .dataframe thead th {\n",
       "        text-align: right;\n",
       "    }\n",
       "</style>\n",
       "<table border=\"1\" class=\"dataframe\">\n",
       "  <thead>\n",
       "    <tr style=\"text-align: right;\">\n",
       "      <th></th>\n",
       "      <th>0</th>\n",
       "      <th>1</th>\n",
       "      <th>2</th>\n",
       "      <th>3</th>\n",
       "      <th>4</th>\n",
       "      <th>5</th>\n",
       "      <th>6</th>\n",
       "      <th>7</th>\n",
       "      <th>8</th>\n",
       "      <th>9</th>\n",
       "      <th>...</th>\n",
       "      <th>374</th>\n",
       "      <th>375</th>\n",
       "      <th>376</th>\n",
       "      <th>377</th>\n",
       "      <th>378</th>\n",
       "      <th>379</th>\n",
       "      <th>380</th>\n",
       "      <th>381</th>\n",
       "      <th>382</th>\n",
       "      <th>383</th>\n",
       "    </tr>\n",
       "  </thead>\n",
       "  <tbody>\n",
       "    <tr>\n",
       "      <th>0</th>\n",
       "      <td>-0.577400</td>\n",
       "      <td>-0.030358</td>\n",
       "      <td>-0.102261</td>\n",
       "      <td>0.060326</td>\n",
       "      <td>-0.015291</td>\n",
       "      <td>-0.234031</td>\n",
       "      <td>-0.346943</td>\n",
       "      <td>0.129524</td>\n",
       "      <td>-0.003832</td>\n",
       "      <td>-0.042432</td>\n",
       "      <td>...</td>\n",
       "      <td>-0.016920</td>\n",
       "      <td>-0.277230</td>\n",
       "      <td>-0.273009</td>\n",
       "      <td>-0.107147</td>\n",
       "      <td>-0.102845</td>\n",
       "      <td>-0.023753</td>\n",
       "      <td>-0.072382</td>\n",
       "      <td>-0.375602</td>\n",
       "      <td>-0.091590</td>\n",
       "      <td>-0.056659</td>\n",
       "    </tr>\n",
       "    <tr>\n",
       "      <th>1</th>\n",
       "      <td>-0.547650</td>\n",
       "      <td>-0.147162</td>\n",
       "      <td>-0.109380</td>\n",
       "      <td>-0.169172</td>\n",
       "      <td>0.111827</td>\n",
       "      <td>-0.252576</td>\n",
       "      <td>0.060074</td>\n",
       "      <td>-0.150678</td>\n",
       "      <td>-0.054314</td>\n",
       "      <td>0.073152</td>\n",
       "      <td>...</td>\n",
       "      <td>0.217950</td>\n",
       "      <td>-0.093913</td>\n",
       "      <td>0.157130</td>\n",
       "      <td>0.028333</td>\n",
       "      <td>0.142177</td>\n",
       "      <td>0.352915</td>\n",
       "      <td>-0.091395</td>\n",
       "      <td>-0.188222</td>\n",
       "      <td>-0.072291</td>\n",
       "      <td>-0.150164</td>\n",
       "    </tr>\n",
       "    <tr>\n",
       "      <th>2</th>\n",
       "      <td>0.006459</td>\n",
       "      <td>0.161897</td>\n",
       "      <td>-0.224145</td>\n",
       "      <td>0.158056</td>\n",
       "      <td>-0.078980</td>\n",
       "      <td>-0.370586</td>\n",
       "      <td>0.030617</td>\n",
       "      <td>-0.232604</td>\n",
       "      <td>0.238776</td>\n",
       "      <td>-0.035669</td>\n",
       "      <td>...</td>\n",
       "      <td>-0.108683</td>\n",
       "      <td>0.079843</td>\n",
       "      <td>0.105473</td>\n",
       "      <td>-0.153740</td>\n",
       "      <td>-0.381738</td>\n",
       "      <td>-0.089754</td>\n",
       "      <td>0.632199</td>\n",
       "      <td>-0.384035</td>\n",
       "      <td>0.304872</td>\n",
       "      <td>0.175816</td>\n",
       "    </tr>\n",
       "    <tr>\n",
       "      <th>3</th>\n",
       "      <td>-0.177904</td>\n",
       "      <td>0.350405</td>\n",
       "      <td>-0.460294</td>\n",
       "      <td>-0.148764</td>\n",
       "      <td>0.055244</td>\n",
       "      <td>0.153033</td>\n",
       "      <td>0.253875</td>\n",
       "      <td>-0.034833</td>\n",
       "      <td>0.219968</td>\n",
       "      <td>0.076479</td>\n",
       "      <td>...</td>\n",
       "      <td>0.183497</td>\n",
       "      <td>0.022842</td>\n",
       "      <td>0.558684</td>\n",
       "      <td>-0.195775</td>\n",
       "      <td>-0.249930</td>\n",
       "      <td>0.223309</td>\n",
       "      <td>0.260235</td>\n",
       "      <td>-0.248233</td>\n",
       "      <td>-0.016308</td>\n",
       "      <td>-0.008697</td>\n",
       "    </tr>\n",
       "    <tr>\n",
       "      <th>4</th>\n",
       "      <td>-0.104774</td>\n",
       "      <td>0.072117</td>\n",
       "      <td>-0.288240</td>\n",
       "      <td>-0.295858</td>\n",
       "      <td>-0.028444</td>\n",
       "      <td>0.050851</td>\n",
       "      <td>-0.149128</td>\n",
       "      <td>-0.252626</td>\n",
       "      <td>0.285305</td>\n",
       "      <td>0.427896</td>\n",
       "      <td>...</td>\n",
       "      <td>-0.128132</td>\n",
       "      <td>-0.155114</td>\n",
       "      <td>0.284549</td>\n",
       "      <td>0.264601</td>\n",
       "      <td>-0.247013</td>\n",
       "      <td>0.120582</td>\n",
       "      <td>-0.068725</td>\n",
       "      <td>-0.274165</td>\n",
       "      <td>-0.008575</td>\n",
       "      <td>-0.276295</td>\n",
       "    </tr>\n",
       "  </tbody>\n",
       "</table>\n",
       "<p>5 rows × 384 columns</p>\n",
       "</div>"
      ],
      "text/plain": [
       "        0         1         2         3         4         5         6    \\\n",
       "0 -0.577400 -0.030358 -0.102261  0.060326 -0.015291 -0.234031 -0.346943   \n",
       "1 -0.547650 -0.147162 -0.109380 -0.169172  0.111827 -0.252576  0.060074   \n",
       "2  0.006459  0.161897 -0.224145  0.158056 -0.078980 -0.370586  0.030617   \n",
       "3 -0.177904  0.350405 -0.460294 -0.148764  0.055244  0.153033  0.253875   \n",
       "4 -0.104774  0.072117 -0.288240 -0.295858 -0.028444  0.050851 -0.149128   \n",
       "\n",
       "        7         8         9    ...       374       375       376       377  \\\n",
       "0  0.129524 -0.003832 -0.042432  ... -0.016920 -0.277230 -0.273009 -0.107147   \n",
       "1 -0.150678 -0.054314  0.073152  ...  0.217950 -0.093913  0.157130  0.028333   \n",
       "2 -0.232604  0.238776 -0.035669  ... -0.108683  0.079843  0.105473 -0.153740   \n",
       "3 -0.034833  0.219968  0.076479  ...  0.183497  0.022842  0.558684 -0.195775   \n",
       "4 -0.252626  0.285305  0.427896  ... -0.128132 -0.155114  0.284549  0.264601   \n",
       "\n",
       "        378       379       380       381       382       383  \n",
       "0 -0.102845 -0.023753 -0.072382 -0.375602 -0.091590 -0.056659  \n",
       "1  0.142177  0.352915 -0.091395 -0.188222 -0.072291 -0.150164  \n",
       "2 -0.381738 -0.089754  0.632199 -0.384035  0.304872  0.175816  \n",
       "3 -0.249930  0.223309  0.260235 -0.248233 -0.016308 -0.008697  \n",
       "4 -0.247013  0.120582 -0.068725 -0.274165 -0.008575 -0.276295  \n",
       "\n",
       "[5 rows x 384 columns]"
      ]
     },
     "execution_count": 30,
     "metadata": {},
     "output_type": "execute_result"
    }
   ],
   "source": [
    "embeddings.head()"
   ]
  },
  {
   "cell_type": "code",
   "execution_count": 18,
   "id": "a7ca9d2f",
   "metadata": {},
   "outputs": [
    {
     "name": "stdout",
     "output_type": "stream",
     "text": [
      "(5, 20)\n"
     ]
    }
   ],
   "source": [
    "# perform dimentionality reduction\n",
    "red_emb = dim_red(embeddings, 20)\n",
    "\n",
    "# perform clustering\n",
    "#pred = clust(red_emb, k)\n",
    "\n",
    "# evaluate clustering results\n",
    "# nmi_score = normalized_mutual_info_score(pred,labels)\n",
    "# ari_score = adjusted_rand_score(pred,labels)\n",
    "\n",
    "# print(f'NMI: {nmi_score:.2f} \\nARI: {ari_score:.2f}')\n"
   ]
  },
  {
   "cell_type": "code",
   "execution_count": 19,
   "metadata": {},
   "outputs": [
    {
     "name": "stdout",
     "output_type": "stream",
     "text": [
      "(5, 20)\n"
     ]
    }
   ],
   "source": [
    "print(red_emb.shape)"
   ]
  },
  {
   "cell_type": "code",
   "execution_count": 20,
   "metadata": {},
   "outputs": [
    {
     "name": "stdout",
     "output_type": "stream",
     "text": [
      "component        0         1         2         3         4         5   \\\n",
      "1995      -3.117522  0.260042 -0.064411 -3.507360 -1.616746  0.828371   \n",
      "1996       4.793908  3.403510  0.536471  4.200731  0.010159 -0.271790   \n",
      "1997      -2.628488 -1.526865  1.019713  5.247707 -1.593089 -2.640928   \n",
      "1998      -2.894725 -6.859186 -6.071468  2.457281 -0.875714 -3.227831   \n",
      "1999      -2.009380 -2.653681  2.654985  0.363351  4.985482 -0.750101   \n",
      "\n",
      "component        6         7         8         9         10        11  \\\n",
      "1995      -0.803253  3.079777 -0.968424  0.152453  6.411215  0.823632   \n",
      "1996      -3.950691 -1.527151 -3.196409 -5.697675  0.106453  3.804145   \n",
      "1997      -1.479709 -1.510048 -0.568840  0.758033 -2.830162  1.754041   \n",
      "1998      -2.655488  2.429821  0.575025  4.303336  2.030814  0.312769   \n",
      "1999      -2.708402 -4.738614  0.956255  1.826028  2.088513  0.640162   \n",
      "\n",
      "component        12        13        14        15        16        17  \\\n",
      "1995       1.302042  1.399515  3.713929 -2.128243 -1.636586 -0.529013   \n",
      "1996      -5.299469 -1.790971  3.509160 -1.910512  1.947121 -3.303346   \n",
      "1997      -1.855039  1.760394 -3.432055 -0.103561 -0.493583 -0.216037   \n",
      "1998       0.092722 -2.480576  0.327443 -1.544873  0.272051  1.785089   \n",
      "1999      -2.333862 -0.136928  0.686262  0.511134  0.098244 -2.295082   \n",
      "\n",
      "component        18        19  \n",
      "1995      -0.474072  0.847467  \n",
      "1996      -1.935783  0.551428  \n",
      "1997      -1.327679  1.232141  \n",
      "1998      -0.144331 -1.863519  \n",
      "1999       4.240489 -3.931833  \n"
     ]
    }
   ],
   "source": [
    "print(red_emb)"
   ]
  },
  {
   "cell_type": "code",
   "execution_count": 28,
   "metadata": {},
   "outputs": [
    {
     "name": "stderr",
     "output_type": "stream",
     "text": [
      "c:\\Users\\utilisateur\\AppData\\Local\\Programs\\Python\\Python311\\Lib\\site-packages\\sklearn\\cluster\\_kmeans.py:870: FutureWarning: The default value of `n_init` will change from 10 to 'auto' in 1.4. Set the value of `n_init` explicitly to suppress the warning\n",
      "  warnings.warn(\n"
     ]
    },
    {
     "data": {
      "text/plain": [
       "<matplotlib.collections.PathCollection at 0x197165643d0>"
      ]
     },
     "execution_count": 28,
     "metadata": {},
     "output_type": "execute_result"
    },
    {
     "data": {
      "image/png": "[encoded data removed]",
      "text/plain": [
       "<Figure size 640x480 with 1 Axes>"
      ]
     },
     "metadata": {},
     "output_type": "display_data"
    }
   ],
   "source": [
    "# kmeans on red_emb matrix\n",
    "kmeans = KMeans(n_clusters=5, random_state=0).fit(red_emb)\n",
    "#ploting the clusters\n",
    "import matplotlib.pyplot as plt\n",
    "plt.scatter(red_emb[0], red_emb[1], c=kmeans.labels_, cmap='rainbow')\n",
    "\n"
   ]
  }
 ],
 "metadata": {
  "kernelspec": {
   "display_name": "Python 3 (ipykernel)",
   "language": "python",
   "name": "python3"
  },
  "language_info": {
   "codemirror_mode": {
    "name": "ipython",
    "version": 3
   },
   "file_extension": ".py",
   "mimetype": "text/x-python",
   "name": "python",
   "nbconvert_exporter": "python",
   "pygments_lexer": "ipython3",
   "version": "3.11.1"
  }
 },
 "nbformat": 4,
 "nbformat_minor": 5
}
